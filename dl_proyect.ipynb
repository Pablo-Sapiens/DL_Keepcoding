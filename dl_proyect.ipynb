{
  "nbformat": 4,
  "nbformat_minor": 0,
  "metadata": {
    "colab": {
      "provenance": [],
      "gpuType": "T4"
    },
    "kernelspec": {
      "name": "python3",
      "display_name": "Python 3"
    },
    "language_info": {
      "name": "python"
    },
    "accelerator": "GPU"
  },
  "cells": [
    {
      "cell_type": "code",
      "source": [
        "!pip install efficientnet_pytorch\n",
        "! pip install optuna"
      ],
      "metadata": {
        "colab": {
          "base_uri": "https://localhost:8080/"
        },
        "id": "av5cqyvcmhPz",
        "outputId": "ea569492-ec65-47a1-e989-1f43a814a20a"
      },
      "execution_count": 1,
      "outputs": [
        {
          "output_type": "stream",
          "name": "stdout",
          "text": [
            "Collecting efficientnet_pytorch\n",
            "  Downloading efficientnet_pytorch-0.7.1.tar.gz (21 kB)\n",
            "  Preparing metadata (setup.py) ... \u001b[?25l\u001b[?25hdone\n",
            "Requirement already satisfied: torch in /usr/local/lib/python3.11/dist-packages (from efficientnet_pytorch) (2.5.1+cu124)\n",
            "Requirement already satisfied: filelock in /usr/local/lib/python3.11/dist-packages (from torch->efficientnet_pytorch) (3.17.0)\n",
            "Requirement already satisfied: typing-extensions>=4.8.0 in /usr/local/lib/python3.11/dist-packages (from torch->efficientnet_pytorch) (4.12.2)\n",
            "Requirement already satisfied: networkx in /usr/local/lib/python3.11/dist-packages (from torch->efficientnet_pytorch) (3.4.2)\n",
            "Requirement already satisfied: jinja2 in /usr/local/lib/python3.11/dist-packages (from torch->efficientnet_pytorch) (3.1.5)\n",
            "Requirement already satisfied: fsspec in /usr/local/lib/python3.11/dist-packages (from torch->efficientnet_pytorch) (2024.10.0)\n",
            "Collecting nvidia-cuda-nvrtc-cu12==12.4.127 (from torch->efficientnet_pytorch)\n",
            "  Downloading nvidia_cuda_nvrtc_cu12-12.4.127-py3-none-manylinux2014_x86_64.whl.metadata (1.5 kB)\n",
            "Collecting nvidia-cuda-runtime-cu12==12.4.127 (from torch->efficientnet_pytorch)\n",
            "  Downloading nvidia_cuda_runtime_cu12-12.4.127-py3-none-manylinux2014_x86_64.whl.metadata (1.5 kB)\n",
            "Collecting nvidia-cuda-cupti-cu12==12.4.127 (from torch->efficientnet_pytorch)\n",
            "  Downloading nvidia_cuda_cupti_cu12-12.4.127-py3-none-manylinux2014_x86_64.whl.metadata (1.6 kB)\n",
            "Collecting nvidia-cudnn-cu12==9.1.0.70 (from torch->efficientnet_pytorch)\n",
            "  Downloading nvidia_cudnn_cu12-9.1.0.70-py3-none-manylinux2014_x86_64.whl.metadata (1.6 kB)\n",
            "Collecting nvidia-cublas-cu12==12.4.5.8 (from torch->efficientnet_pytorch)\n",
            "  Downloading nvidia_cublas_cu12-12.4.5.8-py3-none-manylinux2014_x86_64.whl.metadata (1.5 kB)\n",
            "Collecting nvidia-cufft-cu12==11.2.1.3 (from torch->efficientnet_pytorch)\n",
            "  Downloading nvidia_cufft_cu12-11.2.1.3-py3-none-manylinux2014_x86_64.whl.metadata (1.5 kB)\n",
            "Collecting nvidia-curand-cu12==10.3.5.147 (from torch->efficientnet_pytorch)\n",
            "  Downloading nvidia_curand_cu12-10.3.5.147-py3-none-manylinux2014_x86_64.whl.metadata (1.5 kB)\n",
            "Collecting nvidia-cusolver-cu12==11.6.1.9 (from torch->efficientnet_pytorch)\n",
            "  Downloading nvidia_cusolver_cu12-11.6.1.9-py3-none-manylinux2014_x86_64.whl.metadata (1.6 kB)\n",
            "Collecting nvidia-cusparse-cu12==12.3.1.170 (from torch->efficientnet_pytorch)\n",
            "  Downloading nvidia_cusparse_cu12-12.3.1.170-py3-none-manylinux2014_x86_64.whl.metadata (1.6 kB)\n",
            "Requirement already satisfied: nvidia-nccl-cu12==2.21.5 in /usr/local/lib/python3.11/dist-packages (from torch->efficientnet_pytorch) (2.21.5)\n",
            "Requirement already satisfied: nvidia-nvtx-cu12==12.4.127 in /usr/local/lib/python3.11/dist-packages (from torch->efficientnet_pytorch) (12.4.127)\n",
            "Collecting nvidia-nvjitlink-cu12==12.4.127 (from torch->efficientnet_pytorch)\n",
            "  Downloading nvidia_nvjitlink_cu12-12.4.127-py3-none-manylinux2014_x86_64.whl.metadata (1.5 kB)\n",
            "Requirement already satisfied: triton==3.1.0 in /usr/local/lib/python3.11/dist-packages (from torch->efficientnet_pytorch) (3.1.0)\n",
            "Requirement already satisfied: sympy==1.13.1 in /usr/local/lib/python3.11/dist-packages (from torch->efficientnet_pytorch) (1.13.1)\n",
            "Requirement already satisfied: mpmath<1.4,>=1.1.0 in /usr/local/lib/python3.11/dist-packages (from sympy==1.13.1->torch->efficientnet_pytorch) (1.3.0)\n",
            "Requirement already satisfied: MarkupSafe>=2.0 in /usr/local/lib/python3.11/dist-packages (from jinja2->torch->efficientnet_pytorch) (3.0.2)\n",
            "Downloading nvidia_cublas_cu12-12.4.5.8-py3-none-manylinux2014_x86_64.whl (363.4 MB)\n",
            "\u001b[2K   \u001b[90m━━━━━━━━━━━━━━━━━━━━━━━━━━━━━━━━━━━━━━━━\u001b[0m \u001b[32m363.4/363.4 MB\u001b[0m \u001b[31m4.4 MB/s\u001b[0m eta \u001b[36m0:00:00\u001b[0m\n",
            "\u001b[?25hDownloading nvidia_cuda_cupti_cu12-12.4.127-py3-none-manylinux2014_x86_64.whl (13.8 MB)\n",
            "\u001b[2K   \u001b[90m━━━━━━━━━━━━━━━━━━━━━━━━━━━━━━━━━━━━━━━━\u001b[0m \u001b[32m13.8/13.8 MB\u001b[0m \u001b[31m64.1 MB/s\u001b[0m eta \u001b[36m0:00:00\u001b[0m\n",
            "\u001b[?25hDownloading nvidia_cuda_nvrtc_cu12-12.4.127-py3-none-manylinux2014_x86_64.whl (24.6 MB)\n",
            "\u001b[2K   \u001b[90m━━━━━━━━━━━━━━━━━━━━━━━━━━━━━━━━━━━━━━━━\u001b[0m \u001b[32m24.6/24.6 MB\u001b[0m \u001b[31m52.1 MB/s\u001b[0m eta \u001b[36m0:00:00\u001b[0m\n",
            "\u001b[?25hDownloading nvidia_cuda_runtime_cu12-12.4.127-py3-none-manylinux2014_x86_64.whl (883 kB)\n",
            "\u001b[2K   \u001b[90m━━━━━━━━━━━━━━━━━━━━━━━━━━━━━━━━━━━━━━━━\u001b[0m \u001b[32m883.7/883.7 kB\u001b[0m \u001b[31m47.6 MB/s\u001b[0m eta \u001b[36m0:00:00\u001b[0m\n",
            "\u001b[?25hDownloading nvidia_cudnn_cu12-9.1.0.70-py3-none-manylinux2014_x86_64.whl (664.8 MB)\n",
            "\u001b[2K   \u001b[90m━━━━━━━━━━━━━━━━━━━━━━━━━━━━━━━━━━━━━━━━\u001b[0m \u001b[32m664.8/664.8 MB\u001b[0m \u001b[31m1.3 MB/s\u001b[0m eta \u001b[36m0:00:00\u001b[0m\n",
            "\u001b[?25hDownloading nvidia_cufft_cu12-11.2.1.3-py3-none-manylinux2014_x86_64.whl (211.5 MB)\n",
            "\u001b[2K   \u001b[90m━━━━━━━━━━━━━━━━━━━━━━━━━━━━━━━━━━━━━━━━\u001b[0m \u001b[32m211.5/211.5 MB\u001b[0m \u001b[31m6.5 MB/s\u001b[0m eta \u001b[36m0:00:00\u001b[0m\n",
            "\u001b[?25hDownloading nvidia_curand_cu12-10.3.5.147-py3-none-manylinux2014_x86_64.whl (56.3 MB)\n",
            "\u001b[2K   \u001b[90m━━━━━━━━━━━━━━━━━━━━━━━━━━━━━━━━━━━━━━━━\u001b[0m \u001b[32m56.3/56.3 MB\u001b[0m \u001b[31m19.8 MB/s\u001b[0m eta \u001b[36m0:00:00\u001b[0m\n",
            "\u001b[?25hDownloading nvidia_cusolver_cu12-11.6.1.9-py3-none-manylinux2014_x86_64.whl (127.9 MB)\n",
            "\u001b[2K   \u001b[90m━━━━━━━━━━━━━━━━━━━━━━━━━━━━━━━━━━━━━━━━\u001b[0m \u001b[32m127.9/127.9 MB\u001b[0m \u001b[31m8.0 MB/s\u001b[0m eta \u001b[36m0:00:00\u001b[0m\n",
            "\u001b[?25hDownloading nvidia_cusparse_cu12-12.3.1.170-py3-none-manylinux2014_x86_64.whl (207.5 MB)\n",
            "\u001b[2K   \u001b[90m━━━━━━━━━━━━━━━━━━━━━━━━━━━━━━━━━━━━━━━━\u001b[0m \u001b[32m207.5/207.5 MB\u001b[0m \u001b[31m6.9 MB/s\u001b[0m eta \u001b[36m0:00:00\u001b[0m\n",
            "\u001b[?25hDownloading nvidia_nvjitlink_cu12-12.4.127-py3-none-manylinux2014_x86_64.whl (21.1 MB)\n",
            "\u001b[2K   \u001b[90m━━━━━━━━━━━━━━━━━━━━━━━━━━━━━━━━━━━━━━━━\u001b[0m \u001b[32m21.1/21.1 MB\u001b[0m \u001b[31m69.3 MB/s\u001b[0m eta \u001b[36m0:00:00\u001b[0m\n",
            "\u001b[?25hBuilding wheels for collected packages: efficientnet_pytorch\n",
            "  Building wheel for efficientnet_pytorch (setup.py) ... \u001b[?25l\u001b[?25hdone\n",
            "  Created wheel for efficientnet_pytorch: filename=efficientnet_pytorch-0.7.1-py3-none-any.whl size=16424 sha256=37db3d07aa4a071547f70e733ac613ac0489e58efaf66d9d3cb8d27b863a7751\n",
            "  Stored in directory: /root/.cache/pip/wheels/8b/6f/9b/231a832f811ab6ebb1b32455b177ffc6b8b1cd8de19de70c09\n",
            "Successfully built efficientnet_pytorch\n",
            "Installing collected packages: nvidia-nvjitlink-cu12, nvidia-curand-cu12, nvidia-cufft-cu12, nvidia-cuda-runtime-cu12, nvidia-cuda-nvrtc-cu12, nvidia-cuda-cupti-cu12, nvidia-cublas-cu12, nvidia-cusparse-cu12, nvidia-cudnn-cu12, nvidia-cusolver-cu12, efficientnet_pytorch\n",
            "  Attempting uninstall: nvidia-nvjitlink-cu12\n",
            "    Found existing installation: nvidia-nvjitlink-cu12 12.5.82\n",
            "    Uninstalling nvidia-nvjitlink-cu12-12.5.82:\n",
            "      Successfully uninstalled nvidia-nvjitlink-cu12-12.5.82\n",
            "  Attempting uninstall: nvidia-curand-cu12\n",
            "    Found existing installation: nvidia-curand-cu12 10.3.6.82\n",
            "    Uninstalling nvidia-curand-cu12-10.3.6.82:\n",
            "      Successfully uninstalled nvidia-curand-cu12-10.3.6.82\n",
            "  Attempting uninstall: nvidia-cufft-cu12\n",
            "    Found existing installation: nvidia-cufft-cu12 11.2.3.61\n",
            "    Uninstalling nvidia-cufft-cu12-11.2.3.61:\n",
            "      Successfully uninstalled nvidia-cufft-cu12-11.2.3.61\n",
            "  Attempting uninstall: nvidia-cuda-runtime-cu12\n",
            "    Found existing installation: nvidia-cuda-runtime-cu12 12.5.82\n",
            "    Uninstalling nvidia-cuda-runtime-cu12-12.5.82:\n",
            "      Successfully uninstalled nvidia-cuda-runtime-cu12-12.5.82\n",
            "  Attempting uninstall: nvidia-cuda-nvrtc-cu12\n",
            "    Found existing installation: nvidia-cuda-nvrtc-cu12 12.5.82\n",
            "    Uninstalling nvidia-cuda-nvrtc-cu12-12.5.82:\n",
            "      Successfully uninstalled nvidia-cuda-nvrtc-cu12-12.5.82\n",
            "  Attempting uninstall: nvidia-cuda-cupti-cu12\n",
            "    Found existing installation: nvidia-cuda-cupti-cu12 12.5.82\n",
            "    Uninstalling nvidia-cuda-cupti-cu12-12.5.82:\n",
            "      Successfully uninstalled nvidia-cuda-cupti-cu12-12.5.82\n",
            "  Attempting uninstall: nvidia-cublas-cu12\n",
            "    Found existing installation: nvidia-cublas-cu12 12.5.3.2\n",
            "    Uninstalling nvidia-cublas-cu12-12.5.3.2:\n",
            "      Successfully uninstalled nvidia-cublas-cu12-12.5.3.2\n",
            "  Attempting uninstall: nvidia-cusparse-cu12\n",
            "    Found existing installation: nvidia-cusparse-cu12 12.5.1.3\n",
            "    Uninstalling nvidia-cusparse-cu12-12.5.1.3:\n",
            "      Successfully uninstalled nvidia-cusparse-cu12-12.5.1.3\n",
            "  Attempting uninstall: nvidia-cudnn-cu12\n",
            "    Found existing installation: nvidia-cudnn-cu12 9.3.0.75\n",
            "    Uninstalling nvidia-cudnn-cu12-9.3.0.75:\n",
            "      Successfully uninstalled nvidia-cudnn-cu12-9.3.0.75\n",
            "  Attempting uninstall: nvidia-cusolver-cu12\n",
            "    Found existing installation: nvidia-cusolver-cu12 11.6.3.83\n",
            "    Uninstalling nvidia-cusolver-cu12-11.6.3.83:\n",
            "      Successfully uninstalled nvidia-cusolver-cu12-11.6.3.83\n",
            "Successfully installed efficientnet_pytorch-0.7.1 nvidia-cublas-cu12-12.4.5.8 nvidia-cuda-cupti-cu12-12.4.127 nvidia-cuda-nvrtc-cu12-12.4.127 nvidia-cuda-runtime-cu12-12.4.127 nvidia-cudnn-cu12-9.1.0.70 nvidia-cufft-cu12-11.2.1.3 nvidia-curand-cu12-10.3.5.147 nvidia-cusolver-cu12-11.6.1.9 nvidia-cusparse-cu12-12.3.1.170 nvidia-nvjitlink-cu12-12.4.127\n",
            "Collecting optuna\n",
            "  Downloading optuna-4.2.1-py3-none-any.whl.metadata (17 kB)\n",
            "Collecting alembic>=1.5.0 (from optuna)\n",
            "  Downloading alembic-1.14.1-py3-none-any.whl.metadata (7.4 kB)\n",
            "Collecting colorlog (from optuna)\n",
            "  Downloading colorlog-6.9.0-py3-none-any.whl.metadata (10 kB)\n",
            "Requirement already satisfied: numpy in /usr/local/lib/python3.11/dist-packages (from optuna) (1.26.4)\n",
            "Requirement already satisfied: packaging>=20.0 in /usr/local/lib/python3.11/dist-packages (from optuna) (24.2)\n",
            "Requirement already satisfied: sqlalchemy>=1.4.2 in /usr/local/lib/python3.11/dist-packages (from optuna) (2.0.38)\n",
            "Requirement already satisfied: tqdm in /usr/local/lib/python3.11/dist-packages (from optuna) (4.67.1)\n",
            "Requirement already satisfied: PyYAML in /usr/local/lib/python3.11/dist-packages (from optuna) (6.0.2)\n",
            "Collecting Mako (from alembic>=1.5.0->optuna)\n",
            "  Downloading Mako-1.3.9-py3-none-any.whl.metadata (2.9 kB)\n",
            "Requirement already satisfied: typing-extensions>=4 in /usr/local/lib/python3.11/dist-packages (from alembic>=1.5.0->optuna) (4.12.2)\n",
            "Requirement already satisfied: greenlet!=0.4.17 in /usr/local/lib/python3.11/dist-packages (from sqlalchemy>=1.4.2->optuna) (3.1.1)\n",
            "Requirement already satisfied: MarkupSafe>=0.9.2 in /usr/local/lib/python3.11/dist-packages (from Mako->alembic>=1.5.0->optuna) (3.0.2)\n",
            "Downloading optuna-4.2.1-py3-none-any.whl (383 kB)\n",
            "\u001b[2K   \u001b[90m━━━━━━━━━━━━━━━━━━━━━━━━━━━━━━━━━━━━━━━━\u001b[0m \u001b[32m383.6/383.6 kB\u001b[0m \u001b[31m31.2 MB/s\u001b[0m eta \u001b[36m0:00:00\u001b[0m\n",
            "\u001b[?25hDownloading alembic-1.14.1-py3-none-any.whl (233 kB)\n",
            "\u001b[2K   \u001b[90m━━━━━━━━━━━━━━━━━━━━━━━━━━━━━━━━━━━━━━━━\u001b[0m \u001b[32m233.6/233.6 kB\u001b[0m \u001b[31m24.3 MB/s\u001b[0m eta \u001b[36m0:00:00\u001b[0m\n",
            "\u001b[?25hDownloading colorlog-6.9.0-py3-none-any.whl (11 kB)\n",
            "Downloading Mako-1.3.9-py3-none-any.whl (78 kB)\n",
            "\u001b[2K   \u001b[90m━━━━━━━━━━━━━━━━━━━━━━━━━━━━━━━━━━━━━━━━\u001b[0m \u001b[32m78.5/78.5 kB\u001b[0m \u001b[31m8.9 MB/s\u001b[0m eta \u001b[36m0:00:00\u001b[0m\n",
            "\u001b[?25hInstalling collected packages: Mako, colorlog, alembic, optuna\n",
            "Successfully installed Mako-1.3.9 alembic-1.14.1 colorlog-6.9.0 optuna-4.2.1\n"
          ]
        }
      ]
    },
    {
      "cell_type": "code",
      "execution_count": 2,
      "metadata": {
        "id": "2-nGDxqnmdQG"
      },
      "outputs": [],
      "source": [
        "# Importación de bibliotecas necesarias\n",
        "import os\n",
        "import torch\n",
        "import torch.nn as nn\n",
        "import torch.optim as optim\n",
        "from torch.utils.data import DataLoader, Dataset, WeightedRandomSampler\n",
        "from torchvision import transforms, models\n",
        "from sklearn.model_selection import train_test_split\n",
        "from sklearn.preprocessing import StandardScaler\n",
        "from sklearn.metrics import f1_score, precision_score, recall_score, accuracy_score\n",
        "from PIL import Image\n",
        "import pandas as pd\n",
        "import numpy as np\n",
        "from efficientnet_pytorch import EfficientNet\n",
        "import matplotlib.pyplot as plt\n",
        "import seaborn as sns\n",
        "import optuna\n",
        "from optuna.visualization import plot_param_importances, plot_optimization_history"
      ]
    },
    {
      "cell_type": "code",
      "source": [
        "# Configuración del dispositivo (GPU si está disponible, sino CPU)\n",
        "device = torch.device(\"cuda\" if torch.cuda.is_available() else \"cpu\")"
      ],
      "metadata": {
        "id": "Y6iI2q0ku9Ga"
      },
      "execution_count": 3,
      "outputs": []
    },
    {
      "cell_type": "code",
      "source": [
        "# Definición de rutas de archivos y carga de metadatos\n",
        "csv_file_path = 'Proyecto/poi_dataset.csv'\n",
        "images_dir = 'Proyecto/data_main/data_main'\n",
        "metadata = pd.read_csv(csv_file_path)"
      ],
      "metadata": {
        "id": "-50-bq5Nu-t9"
      },
      "execution_count": 4,
      "outputs": []
    },
    {
      "cell_type": "code",
      "source": [
        "def perform_eda(metadata):\n",
        "    print(metadata.describe())  # Estadísticas descriptivas\n",
        "    plot_engagement_distribution(metadata)\n",
        "    plot_engagement_classes(metadata)\n",
        "\n",
        "def plot_engagement_distribution(metadata):\n",
        "    plt.figure(figsize=(12, 6))\n",
        "    sns.histplot(metadata['Likes'] / (metadata['Visits'] + 1e-5), bins=50, kde=True)\n",
        "    plt.title('Distribución del Engagement')\n",
        "    plt.xlabel('Engagement (Likes/Visits)')\n",
        "    plt.ylabel('Frecuencia')\n",
        "    plt.show()\n",
        "\n",
        "def plot_engagement_classes(metadata):\n",
        "    plt.figure(figsize=(6, 4))\n",
        "    sns.countplot(x=(metadata['Likes'] / (metadata['Visits'] + 1e-5) > 0.1).astype(int))\n",
        "    plt.title('Distribución de Clases de Engagement')\n",
        "    plt.xlabel('Engagement (0: Bajo, 1: Alto)')\n",
        "    plt.ylabel('Número de POIs')\n",
        "    plt.show()\n"
      ],
      "metadata": {
        "id": "rulOuzOgu-iJ"
      },
      "execution_count": 5,
      "outputs": []
    },
    {
      "cell_type": "code",
      "source": [
        "# Realizar análisis exploratorio\n",
        "perform_eda(metadata)"
      ],
      "metadata": {
        "colab": {
          "base_uri": "https://localhost:8080/",
          "height": 1000
        },
        "id": "d8WtPC_mu-fN",
        "outputId": "bab464c2-283c-4f78-ae7b-c872b69c23f3"
      },
      "execution_count": 6,
      "outputs": [
        {
          "output_type": "stream",
          "name": "stdout",
          "text": [
            "              tier  locationLon  locationLat          xps        Visits  \\\n",
            "count  1569.000000  1569.000000  1569.000000  1569.000000   1569.000000   \n",
            "mean      1.541109    -1.132337    39.900141   750.382409  10011.943276   \n",
            "std       0.637677    22.733401     9.662134   228.319854      5.456808   \n",
            "min       1.000000  -121.951049   -62.940930     0.000000  10001.000000   \n",
            "25%       1.000000    -3.725292    40.411754   600.000000  10008.000000   \n",
            "50%       1.000000    -3.699140    40.421738   700.000000  10011.000000   \n",
            "75%       2.000000    -3.673348    40.472458  1000.000000  10015.000000   \n",
            "max       4.000000   158.333118    65.706572  1000.000000  10038.000000   \n",
            "\n",
            "              Likes      Dislikes    Bookmarks  \n",
            "count   1569.000000   1569.000000  1569.000000  \n",
            "mean    3623.908222   2526.305927   973.261950  \n",
            "std     4817.879374   2225.543360  1453.333948  \n",
            "min      100.000000     52.000000    50.000000  \n",
            "25%      464.000000    937.000000   116.000000  \n",
            "50%     1434.000000   2718.000000   306.000000  \n",
            "75%     6840.000000   3399.000000  1309.000000  \n",
            "max    26425.000000  10999.000000  8157.000000  \n"
          ]
        },
        {
          "output_type": "display_data",
          "data": {
            "text/plain": [
              "<Figure size 1200x600 with 1 Axes>"
            ],
            "image/png": "[encoded data removed]"
          },
          "metadata": {}
        },
        {
          "output_type": "display_data",
          "data": {
            "text/plain": [
              "<Figure size 600x400 with 1 Axes>"
            ],
            "image/png": "[encoded data removed]"
          },
          "metadata": {}
        }
      ]
    },
    {
      "cell_type": "code",
      "source": [
        "# Crear etiqueta de engagement\n",
        "metadata['engagement'] = (metadata['Likes'] - metadata['Dislikes'] + metadata['Bookmarks'] > 0).astype(int)\n",
        "\n",
        "# Codificación de variables categóricas\n",
        "metadata = pd.get_dummies(metadata, columns=['tier'], prefix='tier')"
      ],
      "metadata": {
        "id": "8XKyAcTRu-XW"
      },
      "execution_count": 7,
      "outputs": []
    },
    {
      "cell_type": "code",
      "source": [
        "# División de datos en conjuntos de entrenamiento, validación y prueba\n",
        "train_data, test_data = train_test_split(metadata, test_size=0.2, stratify=metadata['engagement'], random_state=42)\n",
        "train_data, val_data = train_test_split(train_data, test_size=0.25, stratify=train_data['engagement'], random_state=42)"
      ],
      "metadata": {
        "id": "ThRCs2EMvLpq"
      },
      "execution_count": 8,
      "outputs": []
    },
    {
      "cell_type": "code",
      "source": [
        "# Definición de transformaciones para las imágenes\n",
        "def get_transforms(train=True):\n",
        "    if train:\n",
        "        return transforms.Compose([\n",
        "            transforms.RandomResizedCrop(224),\n",
        "            transforms.RandomHorizontalFlip(),\n",
        "            transforms.RandomRotation(15),\n",
        "            transforms.ColorJitter(brightness=0.1, contrast=0.1, saturation=0.1, hue=0.1),\n",
        "            transforms.ToTensor(),\n",
        "            transforms.Normalize(mean=[0.485, 0.456, 0.406], std=[0.229, 0.224, 0.225]),\n",
        "        ])\n",
        "    else:\n",
        "        return transforms.Compose([\n",
        "            transforms.Resize(224),\n",
        "            transforms.CenterCrop(224),\n",
        "            transforms.ToTensor(),\n",
        "            transforms.Normalize(mean=[0.485, 0.456, 0.406], std=[0.229, 0.224, 0.225]),\n",
        "        ])"
      ],
      "metadata": {
        "id": "npAFAkC3vLm9"
      },
      "execution_count": 9,
      "outputs": []
    },
    {
      "cell_type": "code",
      "source": [
        "from torch.utils.data import Dataset\n",
        "from sklearn.preprocessing import StandardScaler\n",
        "import numpy as np\n",
        "import os\n",
        "from PIL import Image\n",
        "import torch\n",
        "\n",
        "class POIDataset(Dataset):\n",
        "    def __init__(self, metadata, images_dir, transform=None):\n",
        "        self.metadata = metadata\n",
        "        self.images_dir = images_dir\n",
        "        self.transform = transform\n",
        "        self.scaler = StandardScaler()\n",
        "        self._scale_metadata()\n",
        "\n",
        "    def __len__(self):\n",
        "        return len(self.metadata)\n",
        "\n",
        "    def __getitem__(self, idx):\n",
        "        row = self.metadata.iloc[idx]\n",
        "        metadata_features = self._get_metadata_features(row)\n",
        "        label = torch.tensor(row['engagement'], dtype=torch.float32)\n",
        "        image = self._load_and_transform_image(row['main_image_path'])\n",
        "        return image, metadata_features, label\n",
        "\n",
        "    def _scale_metadata(self):\n",
        "        columns_to_scale = ['locationLat', 'locationLon', 'xps']\n",
        "        self.metadata[columns_to_scale] = self.scaler.fit_transform(self.metadata[columns_to_scale])\n",
        "\n",
        "    def _get_metadata_features(self, row):\n",
        "        feature_columns = ['locationLat', 'locationLon', 'xps'] + [col for col in self.metadata.columns if col.startswith('tier_')]\n",
        "        return torch.tensor(row[feature_columns].values.astype(np.float32))\n",
        "\n",
        "    def _load_and_transform_image(self, image_path):\n",
        "        img_path = os.path.join(self.images_dir, image_path)\n",
        "        image = self._load_image(img_path)\n",
        "        if self.transform:\n",
        "            image = self.transform(image)\n",
        "        return image\n",
        "\n",
        "    def _load_image(self, img_path):\n",
        "        try:\n",
        "            return Image.open(img_path).convert('RGB')\n",
        "        except FileNotFoundError:\n",
        "            return Image.new('RGB', (224, 224), color=(0, 0, 0))\n"
      ],
      "metadata": {
        "id": "TLHwhiZWvLe6"
      },
      "execution_count": 10,
      "outputs": []
    },
    {
      "cell_type": "code",
      "source": [
        "# Implementación de balance de clases\n",
        "def get_weighted_sampler(train_data):\n",
        "    class_counts = train_data['engagement'].value_counts().to_list()\n",
        "    weights = 1. / torch.tensor(class_counts, dtype=torch.float)\n",
        "    samples_weights = weights[train_data['engagement'].values]\n",
        "    return WeightedRandomSampler(weights=samples_weights, num_samples=len(samples_weights), replacement=True)"
      ],
      "metadata": {
        "id": "_U-kLTPZvq_u"
      },
      "execution_count": 11,
      "outputs": []
    },
    {
      "cell_type": "code",
      "source": [
        "# Creación de datasets y dataloaders\n",
        "train_dataset = POIDataset(train_data, images_dir, transform=get_transforms(train=True))\n",
        "val_dataset = POIDataset(val_data, images_dir, transform=get_transforms(train=False))\n",
        "test_dataset = POIDataset(test_data, images_dir, transform=get_transforms(train=False))\n",
        "\n",
        "sampler = get_weighted_sampler(train_data)\n",
        "\n",
        "train_loader = DataLoader(train_dataset, batch_size=32, sampler=sampler)\n",
        "val_loader = DataLoader(val_dataset, batch_size=32, shuffle=False)\n",
        "test_loader = DataLoader(test_dataset, batch_size=32, shuffle=False)"
      ],
      "metadata": {
        "id": "WOnUZI_Avq5t"
      },
      "execution_count": 12,
      "outputs": []
    },
    {
      "cell_type": "code",
      "source": [
        "import torch\n",
        "import torch.nn as nn\n",
        "from efficientnet_pytorch import EfficientNet\n",
        "from torchvision import models\n",
        "\n",
        "class CombinedModel(nn.Module):\n",
        "    def __init__(self, num_metadata_features, dropout):\n",
        "        super(CombinedModel, self).__init__()\n",
        "        self.efficientnet = self._initialize_efficientnet()\n",
        "        self.resnet = self._initialize_resnet()\n",
        "        self.metadata_fc = self._create_metadata_fc(num_metadata_features, dropout)\n",
        "        self.fc = self._create_final_fc(dropout)\n",
        "\n",
        "    def _initialize_efficientnet(self):\n",
        "        efficientnet = EfficientNet.from_pretrained('efficientnet-b0')\n",
        "        efficientnet._fc = nn.Identity()\n",
        "        self._freeze_parameters(efficientnet)\n",
        "        self._unfreeze_parameters(efficientnet._conv_head)\n",
        "        return efficientnet\n",
        "\n",
        "    def _initialize_resnet(self):\n",
        "        resnet = models.resnet18(weights=models.ResNet18_Weights.IMAGENET1K_V1)\n",
        "        resnet.fc = nn.Identity()\n",
        "        self._freeze_parameters(resnet)\n",
        "        self._unfreeze_parameters(resnet.layer4)\n",
        "        return resnet\n",
        "\n",
        "    def _freeze_parameters(self, model):\n",
        "        for param in model.parameters():\n",
        "            param.requires_grad = False\n",
        "\n",
        "    def _unfreeze_parameters(self, layer):\n",
        "        for param in layer.parameters():\n",
        "            param.requires_grad = True\n",
        "\n",
        "    def _create_metadata_fc(self, num_features, dropout):\n",
        "        return nn.Sequential(\n",
        "            nn.Linear(num_features, 128),\n",
        "            nn.ReLU(),\n",
        "            nn.Dropout(dropout)\n",
        "        )\n",
        "\n",
        "    def _create_final_fc(self, dropout):\n",
        "        return nn.Sequential(\n",
        "            nn.Linear(1280 + 512 + 128, 512),\n",
        "            nn.ReLU(),\n",
        "            nn.Dropout(dropout),\n",
        "            nn.Linear(512, 1),\n",
        "            nn.Sigmoid()\n",
        "        )\n",
        "\n",
        "    def forward(self, x_img, x_metadata):\n",
        "        efficientnet_out = self.efficientnet(x_img)\n",
        "        resnet_out = self.resnet(x_img)\n",
        "        metadata_out = self.metadata_fc(x_metadata)\n",
        "        combined = torch.cat((efficientnet_out, resnet_out, metadata_out), dim=1)\n",
        "        return self.fc(combined)\n"
      ],
      "metadata": {
        "id": "jtAcW8Tevx9V"
      },
      "execution_count": 13,
      "outputs": []
    },
    {
      "cell_type": "code",
      "source": [
        "# Implementación de Early Stopping\n",
        "class EarlyStopping:\n",
        "    def __init__(self, patience=5, verbose=False, delta=0):\n",
        "        self.patience = patience\n",
        "        self.verbose = verbose\n",
        "        self.counter = 0\n",
        "        self.best_score = None\n",
        "        self.early_stop = False\n",
        "        self.val_loss_min = np.Inf\n",
        "        self.delta = delta\n",
        "\n",
        "    def __call__(self, val_loss, model):\n",
        "        score = -val_loss\n",
        "        if self.best_score is None:\n",
        "            self.best_score = score\n",
        "            self.save_checkpoint(val_loss, model)\n",
        "        elif score < self.best_score + self.delta:\n",
        "            self.counter += 1\n",
        "            if self.counter >= self.patience:\n",
        "                self.early_stop = True\n",
        "        else:\n",
        "            self.best_score = score\n",
        "            self.save_checkpoint(val_loss, model)\n",
        "            self.counter = 0\n",
        "\n",
        "    def save_checkpoint(self, val_loss, model):\n",
        "        if self.verbose:\n",
        "            print(f'Validation loss decreased ({self.val_loss_min:.6f} --> {val_loss:.6f}). Saving model ...')\n",
        "        torch.save(model.state_dict(), 'checkpoint.pt')\n",
        "        self.val_loss_min = val_loss"
      ],
      "metadata": {
        "id": "y6JKBF6Uvx4G"
      },
      "execution_count": 14,
      "outputs": []
    },
    {
      "cell_type": "code",
      "source": [
        "# Función de entrenamiento\n",
        "def train_model(model, train_loader, val_loader, criterion, optimizer, num_epochs, early_stopping):\n",
        "    train_losses, val_losses, train_accs, val_accs = [], [], [], []\n",
        "    for epoch in range(num_epochs):\n",
        "        train_loss, correct_train, total_train = train_epoch(model, train_loader, criterion, optimizer)\n",
        "        val_loss, correct_val, total_val = validate_model(model, val_loader, criterion)\n",
        "\n",
        "        train_acc = correct_train / total_train\n",
        "        val_acc = correct_val / total_val\n",
        "\n",
        "        train_losses.append(train_loss)\n",
        "        val_losses.append(val_loss)\n",
        "        train_accs.append(train_acc)\n",
        "        val_accs.append(val_acc)\n",
        "\n",
        "        print(f'Epoch {epoch+1}/{num_epochs}, Train Loss: {train_loss:.4f}, Train Acc: {train_acc:.4f}, Val Loss: {val_loss:.4f}, Val Acc: {val_acc:.4f}')\n",
        "\n",
        "        early_stopping(val_loss, model)\n",
        "        if early_stopping.early_stop:\n",
        "            print(\"Early stopping triggered\")\n",
        "            break\n",
        "\n",
        "    return train_losses, val_losses, train_accs, val_accs\n",
        "\n",
        "def train_epoch(model, train_loader, criterion, optimizer):\n",
        "    model.train()\n",
        "    train_loss, correct_train, total_train = 0, 0, 0\n",
        "    for images, metadata, labels in train_loader:\n",
        "        images, metadata, labels = images.to(device), metadata.to(device), labels.to(device)\n",
        "        optimizer.zero_grad()\n",
        "        outputs = model(images, metadata).squeeze()\n",
        "        loss = criterion(outputs, labels)\n",
        "        loss.backward()\n",
        "        optimizer.step()\n",
        "        train_loss += loss.item()\n",
        "        predicted = (outputs > 0.5).float()\n",
        "        total_train += labels.size(0)\n",
        "        correct_train += (predicted == labels).sum().item()\n",
        "    return train_loss / len(train_loader), correct_train, total_train"
      ],
      "metadata": {
        "id": "2J2tYPlfvx1a"
      },
      "execution_count": 15,
      "outputs": []
    },
    {
      "cell_type": "code",
      "source": [
        "def validate_model(model, val_loader, criterion):\n",
        "    model.eval()\n",
        "    val_loss, correct_val, total_val = 0, 0, 0\n",
        "    with torch.no_grad():\n",
        "        for images, metadata, labels in val_loader:\n",
        "            images, metadata, labels = images.to(device), metadata.to(device), labels.to(device)\n",
        "            outputs = model(images, metadata).squeeze()\n",
        "            loss = criterion(outputs, labels)\n",
        "            val_loss += loss.item()\n",
        "            predicted = (outputs > 0.5).float()\n",
        "            total_val += labels.size(0)\n",
        "            correct_val += (predicted == labels).sum().item()\n",
        "    return val_loss / len(val_loader), correct_val, total_val\n",
        "\n",
        "# Función de evaluación\n",
        "def evaluate_model(model, test_loader):\n",
        "    model.eval()\n",
        "    test_predictions, test_labels = [], []\n",
        "    with torch.no_grad():\n",
        "        for images, metadata, labels in test_loader:\n",
        "            images, metadata, labels = images.to(device), metadata.to(device), labels.to(device)\n",
        "            outputs = model(images, metadata).squeeze()\n",
        "            test_predictions.extend((outputs > 0.5).cpu().numpy())\n",
        "            test_labels.extend(labels.cpu().numpy())\n",
        "    return calculate_metrics(test_labels, test_predictions)\n",
        "\n",
        "def calculate_metrics(test_labels, test_predictions):\n",
        "    test_f1 = f1_score(test_labels, test_predictions)\n",
        "    test_precision = precision_score(test_labels, test_predictions)\n",
        "    test_recall = recall_score(test_labels, test_predictions)\n",
        "    test_accuracy = accuracy_score(test_labels, test_predictions)\n",
        "    print(f\"Test Accuracy: {test_accuracy:.4f}, F1-score: {test_f1:.4f}, Precision: {test_precision:.4f}, Recall: {test_recall:.4f}\")\n",
        "    return test_accuracy\n",
        "\n"
      ],
      "metadata": {
        "id": "9BiPjVNPvxy-"
      },
      "execution_count": 16,
      "outputs": []
    },
    {
      "cell_type": "code",
      "source": [
        "# Función objetivo para optimización con Optuna\n",
        "def objective(trial):\n",
        "    lr = trial.suggest_float(\"lr\", 1e-5, 1e-2, log=True)\n",
        "    dropout = trial.suggest_float(\"dropout\", 0.1, 0.5)\n",
        "    num_epochs = trial.suggest_int(\"num_epochs\", 5, 20)\n",
        "    batch_size = trial.suggest_categorical(\"batch_size\", [16, 32, 64])\n",
        "    weight_decay = trial.suggest_float(\"weight_decay\", 1e-5, 1e-2, log=True)\n",
        "\n",
        "    model = CombinedModel(num_metadata_features=7, dropout=dropout).to(device)\n",
        "    criterion = nn.BCELoss()\n",
        "    optimizer = optim.Adam(model.parameters(), lr=lr, weight_decay=weight_decay)\n",
        "    early_stopping = EarlyStopping(patience=5, verbose=True)\n",
        "\n",
        "    train_loader = DataLoader(train_dataset, batch_size=batch_size, sampler=sampler)\n",
        "    val_loader = DataLoader(val_dataset, batch_size=batch_size, shuffle=False)\n",
        "\n",
        "    train_model(model, train_loader, val_loader, criterion, optimizer, num_epochs, early_stopping)\n",
        "    accuracy = evaluate_model(model, val_loader)\n",
        "    return accuracy\n",
        "\n",
        "# Creación y optimización del estudio con Optuna\n",
        "study = optuna.create_study(direction=\"maximize\")\n",
        "study.optimize(objective, n_trials=10)\n",
        "\n"
      ],
      "metadata": {
        "colab": {
          "base_uri": "https://localhost:8080/"
        },
        "id": "7eZIrDqbvxwV",
        "outputId": "b9684e9c-ad53-4319-b5f1-e66523e092f4"
      },
      "execution_count": 17,
      "outputs": [
        {
          "output_type": "stream",
          "name": "stderr",
          "text": [
            "[I 2025-03-01 14:53:15,232] A new study created in memory with name: no-name-9f575b65-4ad1-42e9-bcfd-010965acdae7\n",
            "Downloading: \"https://github.com/lukemelas/EfficientNet-PyTorch/releases/download/1.0/efficientnet-b0-355c32eb.pth\" to /root/.cache/torch/hub/checkpoints/efficientnet-b0-355c32eb.pth\n",
            "100%|██████████| 20.4M/20.4M [00:00<00:00, 290MB/s]\n"
          ]
        },
        {
          "output_type": "stream",
          "name": "stdout",
          "text": [
            "Loaded pretrained weights for efficientnet-b0\n"
          ]
        },
        {
          "output_type": "stream",
          "name": "stderr",
          "text": [
            "Downloading: \"https://download.pytorch.org/models/resnet18-f37072fd.pth\" to /root/.cache/torch/hub/checkpoints/resnet18-f37072fd.pth\n",
            "100%|██████████| 44.7M/44.7M [00:00<00:00, 95.9MB/s]\n"
          ]
        },
        {
          "output_type": "stream",
          "name": "stdout",
          "text": [
            "Epoch 1/15, Train Loss: 0.6955, Train Acc: 0.5048, Val Loss: 0.6901, Val Acc: 0.4745\n",
            "Validation loss decreased (inf --> 0.690140). Saving model ...\n",
            "Epoch 2/15, Train Loss: 0.6846, Train Acc: 0.5558, Val Loss: 0.6838, Val Acc: 0.5955\n",
            "Validation loss decreased (0.690140 --> 0.683755). Saving model ...\n",
            "Epoch 3/15, Train Loss: 0.6859, Train Acc: 0.5271, Val Loss: 0.6763, Val Acc: 0.6433\n",
            "Validation loss decreased (0.683755 --> 0.676344). Saving model ...\n",
            "Epoch 4/15, Train Loss: 0.6828, Train Acc: 0.5600, Val Loss: 0.6843, Val Acc: 0.5064\n",
            "Epoch 5/15, Train Loss: 0.6807, Train Acc: 0.5452, Val Loss: 0.6854, Val Acc: 0.5064\n",
            "Epoch 6/15, Train Loss: 0.6795, Train Acc: 0.5845, Val Loss: 0.6771, Val Acc: 0.5955\n",
            "Epoch 7/15, Train Loss: 0.6759, Train Acc: 0.5983, Val Loss: 0.6696, Val Acc: 0.5987\n",
            "Validation loss decreased (0.676344 --> 0.669560). Saving model ...\n",
            "Epoch 8/15, Train Loss: 0.6619, Train Acc: 0.6259, Val Loss: 0.6773, Val Acc: 0.5955\n",
            "Epoch 9/15, Train Loss: 0.6886, Train Acc: 0.5749, Val Loss: 0.6753, Val Acc: 0.5955\n",
            "Epoch 10/15, Train Loss: 0.6680, Train Acc: 0.6015, Val Loss: 0.6726, Val Acc: 0.5955\n",
            "Epoch 11/15, Train Loss: 0.6797, Train Acc: 0.5962, Val Loss: 0.6653, Val Acc: 0.6433\n",
            "Validation loss decreased (0.669560 --> 0.665295). Saving model ...\n",
            "Epoch 12/15, Train Loss: 0.6712, Train Acc: 0.5919, Val Loss: 0.6666, Val Acc: 0.5987\n",
            "Epoch 13/15, Train Loss: 0.6749, Train Acc: 0.5877, Val Loss: 0.6660, Val Acc: 0.6401\n",
            "Epoch 14/15, Train Loss: 0.6686, Train Acc: 0.6100, Val Loss: 0.6681, Val Acc: 0.5955\n",
            "Epoch 15/15, Train Loss: 0.6721, Train Acc: 0.6089, Val Loss: 0.6673, Val Acc: 0.5955\n"
          ]
        },
        {
          "output_type": "stream",
          "name": "stderr",
          "text": [
            "[I 2025-03-01 14:55:46,096] Trial 0 finished with value: 0.5955414012738853 and parameters: {'lr': 7.712729540091739e-05, 'dropout': 0.10686817376439586, 'num_epochs': 15, 'batch_size': 32, 'weight_decay': 0.0018274774124654176}. Best is trial 0 with value: 0.5955414012738853.\n"
          ]
        },
        {
          "output_type": "stream",
          "name": "stdout",
          "text": [
            "Test Accuracy: 0.5955, F1-score: 0.5890, Precision: 0.5687, Recall: 0.6107\n",
            "Loaded pretrained weights for efficientnet-b0\n",
            "Epoch 1/12, Train Loss: 0.7070, Train Acc: 0.5133, Val Loss: 0.6795, Val Acc: 0.6401\n",
            "Validation loss decreased (inf --> 0.679489). Saving model ...\n",
            "Epoch 2/12, Train Loss: 0.6836, Train Acc: 0.5484, Val Loss: 0.6772, Val Acc: 0.5955\n",
            "Validation loss decreased (0.679489 --> 0.677246). Saving model ...\n",
            "Epoch 3/12, Train Loss: 0.6825, Train Acc: 0.5685, Val Loss: 0.6755, Val Acc: 0.5955\n",
            "Validation loss decreased (0.677246 --> 0.675492). Saving model ...\n",
            "Epoch 4/12, Train Loss: 0.6744, Train Acc: 0.5813, Val Loss: 0.6715, Val Acc: 0.5955\n",
            "Validation loss decreased (0.675492 --> 0.671548). Saving model ...\n",
            "Epoch 5/12, Train Loss: 0.6806, Train Acc: 0.5792, Val Loss: 0.6712, Val Acc: 0.5955\n",
            "Validation loss decreased (0.671548 --> 0.671240). Saving model ...\n",
            "Epoch 6/12, Train Loss: 0.6742, Train Acc: 0.5855, Val Loss: 0.6654, Val Acc: 0.6433\n",
            "Validation loss decreased (0.671240 --> 0.665372). Saving model ...\n",
            "Epoch 7/12, Train Loss: 0.6784, Train Acc: 0.6079, Val Loss: 0.6657, Val Acc: 0.6019\n",
            "Epoch 8/12, Train Loss: 0.6838, Train Acc: 0.5824, Val Loss: 0.6667, Val Acc: 0.6019\n",
            "Epoch 9/12, Train Loss: 0.6702, Train Acc: 0.6100, Val Loss: 0.6680, Val Acc: 0.5955\n",
            "Epoch 10/12, Train Loss: 0.6822, Train Acc: 0.5792, Val Loss: 0.6763, Val Acc: 0.5955\n",
            "Epoch 11/12, Train Loss: 0.6592, Train Acc: 0.6174, Val Loss: 0.6645, Val Acc: 0.6401\n",
            "Validation loss decreased (0.665372 --> 0.664472). Saving model ...\n",
            "Epoch 12/12, Train Loss: 0.6731, Train Acc: 0.5877, Val Loss: 0.6634, Val Acc: 0.6401\n",
            "Validation loss decreased (0.664472 --> 0.663439). Saving model ...\n"
          ]
        },
        {
          "output_type": "stream",
          "name": "stderr",
          "text": [
            "[I 2025-03-01 14:57:37,771] Trial 1 finished with value: 0.6401273885350318 and parameters: {'lr': 0.0003131504121326345, 'dropout': 0.33657200250601604, 'num_epochs': 12, 'batch_size': 32, 'weight_decay': 0.001368318985331769}. Best is trial 1 with value: 0.6401273885350318.\n"
          ]
        },
        {
          "output_type": "stream",
          "name": "stdout",
          "text": [
            "Test Accuracy: 0.6401, F1-score: 0.5891, Precision: 0.6429, Recall: 0.5436\n",
            "Loaded pretrained weights for efficientnet-b0\n",
            "Epoch 1/14, Train Loss: 0.7096, Train Acc: 0.5112, Val Loss: 0.6894, Val Acc: 0.5255\n",
            "Validation loss decreased (inf --> 0.689409). Saving model ...\n",
            "Epoch 2/14, Train Loss: 0.6972, Train Acc: 0.5058, Val Loss: 0.6816, Val Acc: 0.6465\n",
            "Validation loss decreased (0.689409 --> 0.681637). Saving model ...\n",
            "Epoch 3/14, Train Loss: 0.6877, Train Acc: 0.5335, Val Loss: 0.6827, Val Acc: 0.5987\n",
            "Epoch 4/14, Train Loss: 0.6785, Train Acc: 0.5643, Val Loss: 0.6810, Val Acc: 0.5987\n",
            "Validation loss decreased (0.681637 --> 0.681033). Saving model ...\n",
            "Epoch 5/14, Train Loss: 0.6843, Train Acc: 0.5675, Val Loss: 0.6774, Val Acc: 0.5987\n",
            "Validation loss decreased (0.681033 --> 0.677430). Saving model ...\n",
            "Epoch 6/14, Train Loss: 0.6878, Train Acc: 0.5632, Val Loss: 0.6760, Val Acc: 0.5955\n",
            "Validation loss decreased (0.677430 --> 0.675956). Saving model ...\n",
            "Epoch 7/14, Train Loss: 0.6877, Train Acc: 0.5600, Val Loss: 0.6795, Val Acc: 0.5955\n",
            "Epoch 8/14, Train Loss: 0.6701, Train Acc: 0.6121, Val Loss: 0.6815, Val Acc: 0.5541\n",
            "Epoch 9/14, Train Loss: 0.6786, Train Acc: 0.5834, Val Loss: 0.6763, Val Acc: 0.5955\n",
            "Epoch 10/14, Train Loss: 0.6661, Train Acc: 0.6057, Val Loss: 0.6733, Val Acc: 0.5955\n",
            "Validation loss decreased (0.675956 --> 0.673274). Saving model ...\n",
            "Epoch 11/14, Train Loss: 0.6731, Train Acc: 0.5940, Val Loss: 0.6773, Val Acc: 0.5955\n",
            "Epoch 12/14, Train Loss: 0.6720, Train Acc: 0.6111, Val Loss: 0.6692, Val Acc: 0.5955\n",
            "Validation loss decreased (0.673274 --> 0.669158). Saving model ...\n",
            "Epoch 13/14, Train Loss: 0.6810, Train Acc: 0.5802, Val Loss: 0.6858, Val Acc: 0.5541\n",
            "Epoch 14/14, Train Loss: 0.6851, Train Acc: 0.5845, Val Loss: 0.6707, Val Acc: 0.5955\n"
          ]
        },
        {
          "output_type": "stream",
          "name": "stderr",
          "text": [
            "[I 2025-03-01 14:59:48,392] Trial 2 finished with value: 0.5955414012738853 and parameters: {'lr': 0.0002825910231325912, 'dropout': 0.48196578213215246, 'num_epochs': 14, 'batch_size': 64, 'weight_decay': 0.0033515649989106547}. Best is trial 1 with value: 0.6401273885350318.\n"
          ]
        },
        {
          "output_type": "stream",
          "name": "stdout",
          "text": [
            "Test Accuracy: 0.5955, F1-score: 0.5890, Precision: 0.5687, Recall: 0.6107\n",
            "Loaded pretrained weights for efficientnet-b0\n",
            "Epoch 1/13, Train Loss: 0.6964, Train Acc: 0.5101, Val Loss: 0.6894, Val Acc: 0.5955\n",
            "Validation loss decreased (inf --> 0.689365). Saving model ...\n",
            "Epoch 2/13, Train Loss: 0.6860, Train Acc: 0.5345, Val Loss: 0.6857, Val Acc: 0.5955\n",
            "Validation loss decreased (0.689365 --> 0.685722). Saving model ...\n",
            "Epoch 3/13, Train Loss: 0.6874, Train Acc: 0.5558, Val Loss: 0.6802, Val Acc: 0.6306\n",
            "Validation loss decreased (0.685722 --> 0.680165). Saving model ...\n",
            "Epoch 4/13, Train Loss: 0.6875, Train Acc: 0.5505, Val Loss: 0.6784, Val Acc: 0.6401\n",
            "Validation loss decreased (0.680165 --> 0.678393). Saving model ...\n",
            "Epoch 5/13, Train Loss: 0.6855, Train Acc: 0.5441, Val Loss: 0.6768, Val Acc: 0.5478\n",
            "Validation loss decreased (0.678393 --> 0.676759). Saving model ...\n",
            "Epoch 6/13, Train Loss: 0.6884, Train Acc: 0.5313, Val Loss: 0.6759, Val Acc: 0.6401\n",
            "Validation loss decreased (0.676759 --> 0.675927). Saving model ...\n",
            "Epoch 7/13, Train Loss: 0.6825, Train Acc: 0.5675, Val Loss: 0.6830, Val Acc: 0.5541\n",
            "Epoch 8/13, Train Loss: 0.6812, Train Acc: 0.5717, Val Loss: 0.6745, Val Acc: 0.6306\n",
            "Validation loss decreased (0.675927 --> 0.674464). Saving model ...\n",
            "Epoch 9/13, Train Loss: 0.6824, Train Acc: 0.5834, Val Loss: 0.6812, Val Acc: 0.5955\n",
            "Epoch 10/13, Train Loss: 0.6756, Train Acc: 0.5643, Val Loss: 0.6701, Val Acc: 0.6401\n",
            "Validation loss decreased (0.674464 --> 0.670088). Saving model ...\n",
            "Epoch 11/13, Train Loss: 0.6760, Train Acc: 0.5909, Val Loss: 0.6747, Val Acc: 0.5955\n",
            "Epoch 12/13, Train Loss: 0.6715, Train Acc: 0.6164, Val Loss: 0.6946, Val Acc: 0.4745\n",
            "Epoch 13/13, Train Loss: 0.6611, Train Acc: 0.6334, Val Loss: 0.6729, Val Acc: 0.5955\n"
          ]
        },
        {
          "output_type": "stream",
          "name": "stderr",
          "text": [
            "[I 2025-03-01 15:01:46,550] Trial 3 finished with value: 0.5955414012738853 and parameters: {'lr': 4.565398089122835e-05, 'dropout': 0.14965967772432803, 'num_epochs': 13, 'batch_size': 32, 'weight_decay': 0.0001244045138388148}. Best is trial 1 with value: 0.6401273885350318.\n"
          ]
        },
        {
          "output_type": "stream",
          "name": "stdout",
          "text": [
            "Test Accuracy: 0.5955, F1-score: 0.5890, Precision: 0.5687, Recall: 0.6107\n",
            "Loaded pretrained weights for efficientnet-b0\n",
            "Epoch 1/11, Train Loss: 0.7844, Train Acc: 0.5218, Val Loss: 0.6745, Val Acc: 0.5955\n",
            "Validation loss decreased (inf --> 0.674490). Saving model ...\n",
            "Epoch 2/11, Train Loss: 0.6859, Train Acc: 0.5919, Val Loss: 0.6900, Val Acc: 0.5064\n",
            "Epoch 3/11, Train Loss: 0.6818, Train Acc: 0.5994, Val Loss: 0.6758, Val Acc: 0.5955\n",
            "Epoch 4/11, Train Loss: 0.6839, Train Acc: 0.5760, Val Loss: 0.7018, Val Acc: 0.4841\n",
            "Epoch 5/11, Train Loss: 0.6836, Train Acc: 0.5802, Val Loss: 0.6704, Val Acc: 0.5955\n",
            "Validation loss decreased (0.674490 --> 0.670370). Saving model ...\n",
            "Epoch 6/11, Train Loss: 0.6789, Train Acc: 0.6047, Val Loss: 0.6697, Val Acc: 0.5955\n",
            "Validation loss decreased (0.670370 --> 0.669694). Saving model ...\n",
            "Epoch 7/11, Train Loss: 0.6805, Train Acc: 0.5887, Val Loss: 0.6635, Val Acc: 0.5987\n",
            "Validation loss decreased (0.669694 --> 0.663457). Saving model ...\n",
            "Epoch 8/11, Train Loss: 0.6807, Train Acc: 0.5675, Val Loss: 1.6790, Val Acc: 0.5255\n",
            "Epoch 9/11, Train Loss: 0.6896, Train Acc: 0.5855, Val Loss: 0.6843, Val Acc: 0.4745\n",
            "Epoch 10/11, Train Loss: 0.6802, Train Acc: 0.6089, Val Loss: 2.3165, Val Acc: 0.4745\n",
            "Epoch 11/11, Train Loss: 0.6756, Train Acc: 0.6089, Val Loss: 52.3125, Val Acc: 0.4745\n"
          ]
        },
        {
          "output_type": "stream",
          "name": "stderr",
          "text": [
            "[I 2025-03-01 15:03:28,340] Trial 4 finished with value: 0.4745222929936306 and parameters: {'lr': 0.002611741739196014, 'dropout': 0.3210628329875401, 'num_epochs': 11, 'batch_size': 16, 'weight_decay': 0.00014512581441531035}. Best is trial 1 with value: 0.6401273885350318.\n"
          ]
        },
        {
          "output_type": "stream",
          "name": "stdout",
          "text": [
            "Test Accuracy: 0.4745, F1-score: 0.6436, Precision: 0.4745, Recall: 1.0000\n",
            "Loaded pretrained weights for efficientnet-b0\n",
            "Epoch 1/12, Train Loss: 0.7082, Train Acc: 0.5165, Val Loss: 0.6737, Val Acc: 0.5955\n",
            "Validation loss decreased (inf --> 0.673653). Saving model ...\n",
            "Epoch 2/12, Train Loss: 0.6848, Train Acc: 0.5526, Val Loss: 0.6694, Val Acc: 0.5987\n",
            "Validation loss decreased (0.673653 --> 0.669356). Saving model ...\n",
            "Epoch 3/12, Train Loss: 0.6790, Train Acc: 0.5866, Val Loss: 0.6689, Val Acc: 0.5987\n",
            "Validation loss decreased (0.669356 --> 0.668917). Saving model ...\n",
            "Epoch 4/12, Train Loss: 0.6865, Train Acc: 0.5484, Val Loss: 0.6706, Val Acc: 0.5955\n",
            "Epoch 5/12, Train Loss: 0.6877, Train Acc: 0.5537, Val Loss: 0.6789, Val Acc: 0.5955\n",
            "Epoch 6/12, Train Loss: 0.6859, Train Acc: 0.5664, Val Loss: 0.6728, Val Acc: 0.5955\n",
            "Epoch 7/12, Train Loss: 0.6848, Train Acc: 0.5792, Val Loss: 0.6780, Val Acc: 0.5955\n",
            "Epoch 8/12, Train Loss: 0.6855, Train Acc: 0.5717, Val Loss: 0.6773, Val Acc: 0.5955\n",
            "Early stopping triggered\n"
          ]
        },
        {
          "output_type": "stream",
          "name": "stderr",
          "text": [
            "[I 2025-03-01 15:04:42,681] Trial 5 finished with value: 0.5955414012738853 and parameters: {'lr': 0.0007047412313453332, 'dropout': 0.35253578712803935, 'num_epochs': 12, 'batch_size': 16, 'weight_decay': 0.003951894814105555}. Best is trial 1 with value: 0.6401273885350318.\n"
          ]
        },
        {
          "output_type": "stream",
          "name": "stdout",
          "text": [
            "Test Accuracy: 0.5955, F1-score: 0.5890, Precision: 0.5687, Recall: 0.6107\n",
            "Loaded pretrained weights for efficientnet-b0\n",
            "Epoch 1/16, Train Loss: 0.7008, Train Acc: 0.5027, Val Loss: 0.7039, Val Acc: 0.4745\n",
            "Validation loss decreased (inf --> 0.703886). Saving model ...\n",
            "Epoch 2/16, Train Loss: 0.6897, Train Acc: 0.5218, Val Loss: 0.6884, Val Acc: 0.5287\n",
            "Validation loss decreased (0.703886 --> 0.688374). Saving model ...\n",
            "Epoch 3/16, Train Loss: 0.6897, Train Acc: 0.5313, Val Loss: 0.6913, Val Acc: 0.4809\n",
            "Epoch 4/16, Train Loss: 0.6841, Train Acc: 0.5749, Val Loss: 0.6842, Val Acc: 0.6338\n",
            "Validation loss decreased (0.688374 --> 0.684243). Saving model ...\n",
            "Epoch 5/16, Train Loss: 0.6961, Train Acc: 0.5175, Val Loss: 0.6916, Val Acc: 0.4809\n",
            "Epoch 6/16, Train Loss: 0.6840, Train Acc: 0.5675, Val Loss: 0.6828, Val Acc: 0.5987\n",
            "Validation loss decreased (0.684243 --> 0.682789). Saving model ...\n",
            "Epoch 7/16, Train Loss: 0.6871, Train Acc: 0.5409, Val Loss: 0.6942, Val Acc: 0.4809\n",
            "Epoch 8/16, Train Loss: 0.6769, Train Acc: 0.5898, Val Loss: 0.6854, Val Acc: 0.5541\n",
            "Epoch 9/16, Train Loss: 0.6804, Train Acc: 0.5484, Val Loss: 0.7171, Val Acc: 0.4745\n",
            "Epoch 10/16, Train Loss: 0.6824, Train Acc: 0.5547, Val Loss: 0.6830, Val Acc: 0.5541\n",
            "Epoch 11/16, Train Loss: 0.6822, Train Acc: 0.5590, Val Loss: 0.6835, Val Acc: 0.5541\n",
            "Early stopping triggered\n"
          ]
        },
        {
          "output_type": "stream",
          "name": "stderr",
          "text": [
            "[I 2025-03-01 15:06:21,364] Trial 6 finished with value: 0.554140127388535 and parameters: {'lr': 2.0955951849824453e-05, 'dropout': 0.4265184055654958, 'num_epochs': 16, 'batch_size': 32, 'weight_decay': 0.0012806040833217567}. Best is trial 1 with value: 0.6401273885350318.\n"
          ]
        },
        {
          "output_type": "stream",
          "name": "stdout",
          "text": [
            "Test Accuracy: 0.5541, F1-score: 0.5977, Precision: 0.5226, Recall: 0.6980\n",
            "Loaded pretrained weights for efficientnet-b0\n",
            "Epoch 1/8, Train Loss: 0.6937, Train Acc: 0.5165, Val Loss: 0.6897, Val Acc: 0.5255\n",
            "Validation loss decreased (inf --> 0.689714). Saving model ...\n",
            "Epoch 2/8, Train Loss: 0.6922, Train Acc: 0.5313, Val Loss: 0.6897, Val Acc: 0.5573\n",
            "Validation loss decreased (0.689714 --> 0.689660). Saving model ...\n",
            "Epoch 3/8, Train Loss: 0.6924, Train Acc: 0.5218, Val Loss: 0.6892, Val Acc: 0.4777\n",
            "Validation loss decreased (0.689660 --> 0.689177). Saving model ...\n",
            "Epoch 4/8, Train Loss: 0.6866, Train Acc: 0.5558, Val Loss: 0.6866, Val Acc: 0.5255\n",
            "Validation loss decreased (0.689177 --> 0.686577). Saving model ...\n",
            "Epoch 5/8, Train Loss: 0.6838, Train Acc: 0.5824, Val Loss: 0.6839, Val Acc: 0.5414\n",
            "Validation loss decreased (0.686577 --> 0.683884). Saving model ...\n",
            "Epoch 6/8, Train Loss: 0.6817, Train Acc: 0.5749, Val Loss: 0.6865, Val Acc: 0.5573\n",
            "Epoch 7/8, Train Loss: 0.6829, Train Acc: 0.5675, Val Loss: 0.6815, Val Acc: 0.6433\n",
            "Validation loss decreased (0.683884 --> 0.681462). Saving model ...\n",
            "Epoch 8/8, Train Loss: 0.6846, Train Acc: 0.5685, Val Loss: 0.6797, Val Acc: 0.6306\n",
            "Validation loss decreased (0.681462 --> 0.679695). Saving model ...\n"
          ]
        },
        {
          "output_type": "stream",
          "name": "stderr",
          "text": [
            "[I 2025-03-01 15:07:36,200] Trial 7 finished with value: 0.6305732484076433 and parameters: {'lr': 1.0280067610078531e-05, 'dropout': 0.364467261583136, 'num_epochs': 8, 'batch_size': 16, 'weight_decay': 0.004303884615181245}. Best is trial 1 with value: 0.6401273885350318.\n"
          ]
        },
        {
          "output_type": "stream",
          "name": "stdout",
          "text": [
            "Test Accuracy: 0.6306, F1-score: 0.5433, Precision: 0.6571, Recall: 0.4631\n",
            "Loaded pretrained weights for efficientnet-b0\n",
            "Epoch 1/6, Train Loss: 0.6956, Train Acc: 0.5143, Val Loss: 0.6905, Val Acc: 0.5255\n",
            "Validation loss decreased (inf --> 0.690523). Saving model ...\n",
            "Epoch 2/6, Train Loss: 0.6920, Train Acc: 0.5112, Val Loss: 0.6858, Val Acc: 0.6433\n",
            "Validation loss decreased (0.690523 --> 0.685772). Saving model ...\n",
            "Epoch 3/6, Train Loss: 0.6854, Train Acc: 0.5409, Val Loss: 0.6884, Val Acc: 0.4777\n",
            "Epoch 4/6, Train Loss: 0.6902, Train Acc: 0.5367, Val Loss: 0.6847, Val Acc: 0.5573\n",
            "Validation loss decreased (0.685772 --> 0.684654). Saving model ...\n",
            "Epoch 5/6, Train Loss: 0.6867, Train Acc: 0.5420, Val Loss: 0.6782, Val Acc: 0.6338\n",
            "Validation loss decreased (0.684654 --> 0.678213). Saving model ...\n",
            "Epoch 6/6, Train Loss: 0.6840, Train Acc: 0.5473, Val Loss: 0.6765, Val Acc: 0.6019\n",
            "Validation loss decreased (0.678213 --> 0.676528). Saving model ...\n"
          ]
        },
        {
          "output_type": "stream",
          "name": "stderr",
          "text": [
            "[I 2025-03-01 15:08:30,710] Trial 8 finished with value: 0.6019108280254777 and parameters: {'lr': 3.4230309007233026e-05, 'dropout': 0.2872740647403048, 'num_epochs': 6, 'batch_size': 32, 'weight_decay': 0.0003913551906959696}. Best is trial 1 with value: 0.6401273885350318.\n"
          ]
        },
        {
          "output_type": "stream",
          "name": "stdout",
          "text": [
            "Test Accuracy: 0.6019, F1-score: 0.5928, Precision: 0.5759, Recall: 0.6107\n",
            "Loaded pretrained weights for efficientnet-b0\n",
            "Epoch 1/16, Train Loss: 0.7696, Train Acc: 0.4995, Val Loss: 0.6784, Val Acc: 0.5955\n",
            "Validation loss decreased (inf --> 0.678374). Saving model ...\n",
            "Epoch 2/16, Train Loss: 0.7015, Train Acc: 0.5515, Val Loss: 0.6727, Val Acc: 0.5955\n",
            "Validation loss decreased (0.678374 --> 0.672735). Saving model ...\n",
            "Epoch 3/16, Train Loss: 0.6840, Train Acc: 0.5792, Val Loss: 0.6722, Val Acc: 0.5987\n",
            "Validation loss decreased (0.672735 --> 0.672173). Saving model ...\n",
            "Epoch 4/16, Train Loss: 0.6909, Train Acc: 0.5696, Val Loss: 0.6776, Val Acc: 0.5955\n",
            "Epoch 5/16, Train Loss: 0.6723, Train Acc: 0.5994, Val Loss: 0.6787, Val Acc: 0.5955\n",
            "Epoch 6/16, Train Loss: 0.6612, Train Acc: 0.6206, Val Loss: 0.6891, Val Acc: 0.5955\n",
            "Epoch 7/16, Train Loss: 0.6821, Train Acc: 0.5813, Val Loss: 0.6835, Val Acc: 0.5955\n",
            "Epoch 8/16, Train Loss: 0.6674, Train Acc: 0.6015, Val Loss: 0.6950, Val Acc: 0.5541\n",
            "Early stopping triggered\n"
          ]
        },
        {
          "output_type": "stream",
          "name": "stderr",
          "text": [
            "[I 2025-03-01 15:09:45,538] Trial 9 finished with value: 0.554140127388535 and parameters: {'lr': 0.0014210344816941388, 'dropout': 0.4628005496937385, 'num_epochs': 16, 'batch_size': 64, 'weight_decay': 0.00014880314034660655}. Best is trial 1 with value: 0.6401273885350318.\n"
          ]
        },
        {
          "output_type": "stream",
          "name": "stdout",
          "text": [
            "Test Accuracy: 0.5541, F1-score: 0.6089, Precision: 0.5215, Recall: 0.7315\n"
          ]
        }
      ]
    },
    {
      "cell_type": "code",
      "source": [
        "# Visualización de la optimización\n",
        "plot_optimization_history(study)\n",
        "plot_param_importances(study)"
      ],
      "metadata": {
        "colab": {
          "base_uri": "https://localhost:8080/",
          "height": 542
        },
        "id": "xhsaCNUivxtu",
        "outputId": "bdfd0ff8-eedb-4a77-9118-6d7dd5c230f6"
      },
      "execution_count": 18,
      "outputs": [
        {
          "output_type": "display_data",
          "data": {
            "text/html": [
              "<html>\n",
              "<head><meta charset=\"utf-8\" /></head>\n",
              "<body>\n",
              "    <div>            <script src=\"https://cdnjs.cloudflare.com/ajax/libs/mathjax/2.7.5/MathJax.js?config=TeX-AMS-MML_SVG\"></script><script type=\"text/javascript\">if (window.MathJax && window.MathJax.Hub && window.MathJax.Hub.Config) {window.MathJax.Hub.Config({SVG: {font: \"STIX-Web\"}});}</script>                <script type=\"text/javascript\">window.PlotlyConfig = {MathJaxConfig: 'local'};</script>\n",
              "        <script charset=\"utf-8\" src=\"https://cdn.plot.ly/plotly-2.35.2.min.js\"></script>                <div id=\"adef57fb-6c86-4ea0-90b1-9cdd440a7a26\" class=\"plotly-graph-div\" style=\"height:525px; width:100%;\"></div>            <script type=\"text/javascript\">                                    window.PLOTLYENV=window.PLOTLYENV || {};                                    if (document.getElementById(\"adef57fb-6c86-4ea0-90b1-9cdd440a7a26\")) {                    Plotly.newPlot(                        \"adef57fb-6c86-4ea0-90b1-9cdd440a7a26\",                        [{\"cliponaxis\":false,\"hovertemplate\":[\"batch_size (CategoricalDistribution): 0.0404783386251401\\u003cextra\\u003e\\u003c\\u002fextra\\u003e\",\"dropout (FloatDistribution): 0.053448751692911654\\u003cextra\\u003e\\u003c\\u002fextra\\u003e\",\"weight_decay (FloatDistribution): 0.09827914810621485\\u003cextra\\u003e\\u003c\\u002fextra\\u003e\",\"num_epochs (IntDistribution): 0.2798960072219432\\u003cextra\\u003e\\u003c\\u002fextra\\u003e\",\"lr (FloatDistribution): 0.5278977543537902\\u003cextra\\u003e\\u003c\\u002fextra\\u003e\"],\"name\":\"Objective Value\",\"orientation\":\"h\",\"text\":[\"0.04\",\"0.05\",\"0.10\",\"0.28\",\"0.53\"],\"textposition\":\"outside\",\"x\":[0.0404783386251401,0.053448751692911654,0.09827914810621485,0.2798960072219432,0.5278977543537902],\"y\":[\"batch_size\",\"dropout\",\"weight_decay\",\"num_epochs\",\"lr\"],\"type\":\"bar\"}],                        {\"title\":{\"text\":\"Hyperparameter Importances\"},\"xaxis\":{\"title\":{\"text\":\"Hyperparameter Importance\"}},\"yaxis\":{\"title\":{\"text\":\"Hyperparameter\"}},\"template\":{\"data\":{\"histogram2dcontour\":[{\"type\":\"histogram2dcontour\",\"colorbar\":{\"outlinewidth\":0,\"ticks\":\"\"},\"colorscale\":[[0.0,\"#0d0887\"],[0.1111111111111111,\"#46039f\"],[0.2222222222222222,\"#7201a8\"],[0.3333333333333333,\"#9c179e\"],[0.4444444444444444,\"#bd3786\"],[0.5555555555555556,\"#d8576b\"],[0.6666666666666666,\"#ed7953\"],[0.7777777777777778,\"#fb9f3a\"],[0.8888888888888888,\"#fdca26\"],[1.0,\"#f0f921\"]]}],\"choropleth\":[{\"type\":\"choropleth\",\"colorbar\":{\"outlinewidth\":0,\"ticks\":\"\"}}],\"histogram2d\":[{\"type\":\"histogram2d\",\"colorbar\":{\"outlinewidth\":0,\"ticks\":\"\"},\"colorscale\":[[0.0,\"#0d0887\"],[0.1111111111111111,\"#46039f\"],[0.2222222222222222,\"#7201a8\"],[0.3333333333333333,\"#9c179e\"],[0.4444444444444444,\"#bd3786\"],[0.5555555555555556,\"#d8576b\"],[0.6666666666666666,\"#ed7953\"],[0.7777777777777778,\"#fb9f3a\"],[0.8888888888888888,\"#fdca26\"],[1.0,\"#f0f921\"]]}],\"heatmap\":[{\"type\":\"heatmap\",\"colorbar\":{\"outlinewidth\":0,\"ticks\":\"\"},\"colorscale\":[[0.0,\"#0d0887\"],[0.1111111111111111,\"#46039f\"],[0.2222222222222222,\"#7201a8\"],[0.3333333333333333,\"#9c179e\"],[0.4444444444444444,\"#bd3786\"],[0.5555555555555556,\"#d8576b\"],[0.6666666666666666,\"#ed7953\"],[0.7777777777777778,\"#fb9f3a\"],[0.8888888888888888,\"#fdca26\"],[1.0,\"#f0f921\"]]}],\"heatmapgl\":[{\"type\":\"heatmapgl\",\"colorbar\":{\"outlinewidth\":0,\"ticks\":\"\"},\"colorscale\":[[0.0,\"#0d0887\"],[0.1111111111111111,\"#46039f\"],[0.2222222222222222,\"#7201a8\"],[0.3333333333333333,\"#9c179e\"],[0.4444444444444444,\"#bd3786\"],[0.5555555555555556,\"#d8576b\"],[0.6666666666666666,\"#ed7953\"],[0.7777777777777778,\"#fb9f3a\"],[0.8888888888888888,\"#fdca26\"],[1.0,\"#f0f921\"]]}],\"contourcarpet\":[{\"type\":\"contourcarpet\",\"colorbar\":{\"outlinewidth\":0,\"ticks\":\"\"}}],\"contour\":[{\"type\":\"contour\",\"colorbar\":{\"outlinewidth\":0,\"ticks\":\"\"},\"colorscale\":[[0.0,\"#0d0887\"],[0.1111111111111111,\"#46039f\"],[0.2222222222222222,\"#7201a8\"],[0.3333333333333333,\"#9c179e\"],[0.4444444444444444,\"#bd3786\"],[0.5555555555555556,\"#d8576b\"],[0.6666666666666666,\"#ed7953\"],[0.7777777777777778,\"#fb9f3a\"],[0.8888888888888888,\"#fdca26\"],[1.0,\"#f0f921\"]]}],\"surface\":[{\"type\":\"surface\",\"colorbar\":{\"outlinewidth\":0,\"ticks\":\"\"},\"colorscale\":[[0.0,\"#0d0887\"],[0.1111111111111111,\"#46039f\"],[0.2222222222222222,\"#7201a8\"],[0.3333333333333333,\"#9c179e\"],[0.4444444444444444,\"#bd3786\"],[0.5555555555555556,\"#d8576b\"],[0.6666666666666666,\"#ed7953\"],[0.7777777777777778,\"#fb9f3a\"],[0.8888888888888888,\"#fdca26\"],[1.0,\"#f0f921\"]]}],\"mesh3d\":[{\"type\":\"mesh3d\",\"colorbar\":{\"outlinewidth\":0,\"ticks\":\"\"}}],\"scatter\":[{\"fillpattern\":{\"fillmode\":\"overlay\",\"size\":10,\"solidity\":0.2},\"type\":\"scatter\"}],\"parcoords\":[{\"type\":\"parcoords\",\"line\":{\"colorbar\":{\"outlinewidth\":0,\"ticks\":\"\"}}}],\"scatterpolargl\":[{\"type\":\"scatterpolargl\",\"marker\":{\"colorbar\":{\"outlinewidth\":0,\"ticks\":\"\"}}}],\"bar\":[{\"error_x\":{\"color\":\"#2a3f5f\"},\"error_y\":{\"color\":\"#2a3f5f\"},\"marker\":{\"line\":{\"color\":\"#E5ECF6\",\"width\":0.5},\"pattern\":{\"fillmode\":\"overlay\",\"size\":10,\"solidity\":0.2}},\"type\":\"bar\"}],\"scattergeo\":[{\"type\":\"scattergeo\",\"marker\":{\"colorbar\":{\"outlinewidth\":0,\"ticks\":\"\"}}}],\"scatterpolar\":[{\"type\":\"scatterpolar\",\"marker\":{\"colorbar\":{\"outlinewidth\":0,\"ticks\":\"\"}}}],\"histogram\":[{\"marker\":{\"pattern\":{\"fillmode\":\"overlay\",\"size\":10,\"solidity\":0.2}},\"type\":\"histogram\"}],\"scattergl\":[{\"type\":\"scattergl\",\"marker\":{\"colorbar\":{\"outlinewidth\":0,\"ticks\":\"\"}}}],\"scatter3d\":[{\"type\":\"scatter3d\",\"line\":{\"colorbar\":{\"outlinewidth\":0,\"ticks\":\"\"}},\"marker\":{\"colorbar\":{\"outlinewidth\":0,\"ticks\":\"\"}}}],\"scattermapbox\":[{\"type\":\"scattermapbox\",\"marker\":{\"colorbar\":{\"outlinewidth\":0,\"ticks\":\"\"}}}],\"scatterternary\":[{\"type\":\"scatterternary\",\"marker\":{\"colorbar\":{\"outlinewidth\":0,\"ticks\":\"\"}}}],\"scattercarpet\":[{\"type\":\"scattercarpet\",\"marker\":{\"colorbar\":{\"outlinewidth\":0,\"ticks\":\"\"}}}],\"carpet\":[{\"aaxis\":{\"endlinecolor\":\"#2a3f5f\",\"gridcolor\":\"white\",\"linecolor\":\"white\",\"minorgridcolor\":\"white\",\"startlinecolor\":\"#2a3f5f\"},\"baxis\":{\"endlinecolor\":\"#2a3f5f\",\"gridcolor\":\"white\",\"linecolor\":\"white\",\"minorgridcolor\":\"white\",\"startlinecolor\":\"#2a3f5f\"},\"type\":\"carpet\"}],\"table\":[{\"cells\":{\"fill\":{\"color\":\"#EBF0F8\"},\"line\":{\"color\":\"white\"}},\"header\":{\"fill\":{\"color\":\"#C8D4E3\"},\"line\":{\"color\":\"white\"}},\"type\":\"table\"}],\"barpolar\":[{\"marker\":{\"line\":{\"color\":\"#E5ECF6\",\"width\":0.5},\"pattern\":{\"fillmode\":\"overlay\",\"size\":10,\"solidity\":0.2}},\"type\":\"barpolar\"}],\"pie\":[{\"automargin\":true,\"type\":\"pie\"}]},\"layout\":{\"autotypenumbers\":\"strict\",\"colorway\":[\"#636efa\",\"#EF553B\",\"#00cc96\",\"#ab63fa\",\"#FFA15A\",\"#19d3f3\",\"#FF6692\",\"#B6E880\",\"#FF97FF\",\"#FECB52\"],\"font\":{\"color\":\"#2a3f5f\"},\"hovermode\":\"closest\",\"hoverlabel\":{\"align\":\"left\"},\"paper_bgcolor\":\"white\",\"plot_bgcolor\":\"#E5ECF6\",\"polar\":{\"bgcolor\":\"#E5ECF6\",\"angularaxis\":{\"gridcolor\":\"white\",\"linecolor\":\"white\",\"ticks\":\"\"},\"radialaxis\":{\"gridcolor\":\"white\",\"linecolor\":\"white\",\"ticks\":\"\"}},\"ternary\":{\"bgcolor\":\"#E5ECF6\",\"aaxis\":{\"gridcolor\":\"white\",\"linecolor\":\"white\",\"ticks\":\"\"},\"baxis\":{\"gridcolor\":\"white\",\"linecolor\":\"white\",\"ticks\":\"\"},\"caxis\":{\"gridcolor\":\"white\",\"linecolor\":\"white\",\"ticks\":\"\"}},\"coloraxis\":{\"colorbar\":{\"outlinewidth\":0,\"ticks\":\"\"}},\"colorscale\":{\"sequential\":[[0.0,\"#0d0887\"],[0.1111111111111111,\"#46039f\"],[0.2222222222222222,\"#7201a8\"],[0.3333333333333333,\"#9c179e\"],[0.4444444444444444,\"#bd3786\"],[0.5555555555555556,\"#d8576b\"],[0.6666666666666666,\"#ed7953\"],[0.7777777777777778,\"#fb9f3a\"],[0.8888888888888888,\"#fdca26\"],[1.0,\"#f0f921\"]],\"sequentialminus\":[[0.0,\"#0d0887\"],[0.1111111111111111,\"#46039f\"],[0.2222222222222222,\"#7201a8\"],[0.3333333333333333,\"#9c179e\"],[0.4444444444444444,\"#bd3786\"],[0.5555555555555556,\"#d8576b\"],[0.6666666666666666,\"#ed7953\"],[0.7777777777777778,\"#fb9f3a\"],[0.8888888888888888,\"#fdca26\"],[1.0,\"#f0f921\"]],\"diverging\":[[0,\"#8e0152\"],[0.1,\"#c51b7d\"],[0.2,\"#de77ae\"],[0.3,\"#f1b6da\"],[0.4,\"#fde0ef\"],[0.5,\"#f7f7f7\"],[0.6,\"#e6f5d0\"],[0.7,\"#b8e186\"],[0.8,\"#7fbc41\"],[0.9,\"#4d9221\"],[1,\"#276419\"]]},\"xaxis\":{\"gridcolor\":\"white\",\"linecolor\":\"white\",\"ticks\":\"\",\"title\":{\"standoff\":15},\"zerolinecolor\":\"white\",\"automargin\":true,\"zerolinewidth\":2},\"yaxis\":{\"gridcolor\":\"white\",\"linecolor\":\"white\",\"ticks\":\"\",\"title\":{\"standoff\":15},\"zerolinecolor\":\"white\",\"automargin\":true,\"zerolinewidth\":2},\"scene\":{\"xaxis\":{\"backgroundcolor\":\"#E5ECF6\",\"gridcolor\":\"white\",\"linecolor\":\"white\",\"showbackground\":true,\"ticks\":\"\",\"zerolinecolor\":\"white\",\"gridwidth\":2},\"yaxis\":{\"backgroundcolor\":\"#E5ECF6\",\"gridcolor\":\"white\",\"linecolor\":\"white\",\"showbackground\":true,\"ticks\":\"\",\"zerolinecolor\":\"white\",\"gridwidth\":2},\"zaxis\":{\"backgroundcolor\":\"#E5ECF6\",\"gridcolor\":\"white\",\"linecolor\":\"white\",\"showbackground\":true,\"ticks\":\"\",\"zerolinecolor\":\"white\",\"gridwidth\":2}},\"shapedefaults\":{\"line\":{\"color\":\"#2a3f5f\"}},\"annotationdefaults\":{\"arrowcolor\":\"#2a3f5f\",\"arrowhead\":0,\"arrowwidth\":1},\"geo\":{\"bgcolor\":\"white\",\"landcolor\":\"#E5ECF6\",\"subunitcolor\":\"white\",\"showland\":true,\"showlakes\":true,\"lakecolor\":\"white\"},\"title\":{\"x\":0.05},\"mapbox\":{\"style\":\"light\"}}}},                        {\"responsive\": true}                    ).then(function(){\n",
              "                            \n",
              "var gd = document.getElementById('adef57fb-6c86-4ea0-90b1-9cdd440a7a26');\n",
              "var x = new MutationObserver(function (mutations, observer) {{\n",
              "        var display = window.getComputedStyle(gd).display;\n",
              "        if (!display || display === 'none') {{\n",
              "            console.log([gd, 'removed!']);\n",
              "            Plotly.purge(gd);\n",
              "            observer.disconnect();\n",
              "        }}\n",
              "}});\n",
              "\n",
              "// Listen for the removal of the full notebook cells\n",
              "var notebookContainer = gd.closest('#notebook-container');\n",
              "if (notebookContainer) {{\n",
              "    x.observe(notebookContainer, {childList: true});\n",
              "}}\n",
              "\n",
              "// Listen for the clearing of the current output cell\n",
              "var outputEl = gd.closest('.output');\n",
              "if (outputEl) {{\n",
              "    x.observe(outputEl, {childList: true});\n",
              "}}\n",
              "\n",
              "                        })                };                            </script>        </div>\n",
              "</body>\n",
              "</html>"
            ]
          },
          "metadata": {}
        }
      ]
    },
    {
      "cell_type": "code",
      "source": [
        "# Imprimimos los mejores hiperparámetros\n",
        "print(\"Best trial:\")\n",
        "trial = study.best_trial\n",
        "print(\"Value: \", trial.value)\n",
        "print(\"Params: \")\n",
        "for key, value in trial.params.items():\n",
        "    print(\"    {}: {}\".format(key, value))\n",
        "\n",
        "print(\"Best Hyperparameters:\", study.best_params)\n",
        "\n",
        "# Entrenar modelo final con los mejores hiperparámetros\n",
        "best_params = study.best_params\n",
        "num_metadata_features = len(train_dataset[0][1])\n",
        "final_model = CombinedModel(num_metadata_features=num_metadata_features, dropout=best_params['dropout']).to(device)\n",
        "final_criterion = nn.BCELoss()\n",
        "final_optimizer = optim.Adam(final_model.parameters(), lr=best_params['lr'], weight_decay=best_params['weight_decay'])\n",
        "final_early_stopping = EarlyStopping(patience=10, verbose=True)\n",
        "\n",
        "final_train_loader = DataLoader(train_dataset, batch_size=best_params['batch_size'], sampler=sampler)\n",
        "final_val_loader = DataLoader(val_dataset, batch_size=best_params['batch_size'], shuffle=False)\n",
        "\n",
        "train_losses, val_losses, train_accs, val_accs = train_model(final_model, final_train_loader, final_val_loader, final_criterion, final_optimizer, best_params['num_epochs'], final_early_stopping)\n",
        "\n",
        "# Evaluar modelo final\n",
        "final_accuracy = evaluate_model(final_model, test_loader)\n",
        "print(f\"Final Test Accuracy: {final_accuracy:.4f}\")"
      ],
      "metadata": {
        "colab": {
          "base_uri": "https://localhost:8080/"
        },
        "id": "WeNNw5PavLXl",
        "outputId": "d1222259-3223-4d3c-e7e6-1d15cffffe3c"
      },
      "execution_count": 19,
      "outputs": [
        {
          "output_type": "stream",
          "name": "stdout",
          "text": [
            "Best trial:\n",
            "Value:  0.6401273885350318\n",
            "Params: \n",
            "    lr: 0.0003131504121326345\n",
            "    dropout: 0.33657200250601604\n",
            "    num_epochs: 12\n",
            "    batch_size: 32\n",
            "    weight_decay: 0.001368318985331769\n",
            "Best Hyperparameters: {'lr': 0.0003131504121326345, 'dropout': 0.33657200250601604, 'num_epochs': 12, 'batch_size': 32, 'weight_decay': 0.001368318985331769}\n",
            "Loaded pretrained weights for efficientnet-b0\n",
            "Epoch 1/12, Train Loss: 0.7072, Train Acc: 0.4803, Val Loss: 0.6820, Val Acc: 0.6019\n",
            "Validation loss decreased (inf --> 0.681973). Saving model ...\n",
            "Epoch 2/12, Train Loss: 0.6830, Train Acc: 0.5579, Val Loss: 0.6788, Val Acc: 0.5987\n",
            "Validation loss decreased (0.681973 --> 0.678847). Saving model ...\n",
            "Epoch 3/12, Train Loss: 0.6881, Train Acc: 0.5441, Val Loss: 0.6721, Val Acc: 0.6433\n",
            "Validation loss decreased (0.678847 --> 0.672058). Saving model ...\n",
            "Epoch 4/12, Train Loss: 0.6818, Train Acc: 0.5866, Val Loss: 0.6759, Val Acc: 0.5955\n",
            "Epoch 5/12, Train Loss: 0.6733, Train Acc: 0.5824, Val Loss: 0.6718, Val Acc: 0.5955\n",
            "Validation loss decreased (0.672058 --> 0.671846). Saving model ...\n",
            "Epoch 6/12, Train Loss: 0.6761, Train Acc: 0.5962, Val Loss: 0.6688, Val Acc: 0.5955\n",
            "Validation loss decreased (0.671846 --> 0.668816). Saving model ...\n",
            "Epoch 7/12, Train Loss: 0.6890, Train Acc: 0.5505, Val Loss: 0.6693, Val Acc: 0.5955\n",
            "Epoch 8/12, Train Loss: 0.6845, Train Acc: 0.5813, Val Loss: 0.6650, Val Acc: 0.6401\n",
            "Validation loss decreased (0.668816 --> 0.664995). Saving model ...\n",
            "Epoch 9/12, Train Loss: 0.6775, Train Acc: 0.6100, Val Loss: 0.6666, Val Acc: 0.5987\n",
            "Epoch 10/12, Train Loss: 0.6822, Train Acc: 0.5845, Val Loss: 0.6660, Val Acc: 0.5987\n",
            "Epoch 11/12, Train Loss: 0.6756, Train Acc: 0.5983, Val Loss: 0.6673, Val Acc: 0.5955\n",
            "Epoch 12/12, Train Loss: 0.6670, Train Acc: 0.6142, Val Loss: 0.6738, Val Acc: 0.5955\n",
            "Test Accuracy: 0.5987, F1-score: 0.5743, Precision: 0.5743, Recall: 0.5743\n",
            "Final Test Accuracy: 0.5987\n"
          ]
        }
      ]
    },
    {
      "cell_type": "code",
      "source": [],
      "metadata": {
        "id": "cMHLB1y6t4RJ"
      },
      "execution_count": 19,
      "outputs": []
    }
  ]
}